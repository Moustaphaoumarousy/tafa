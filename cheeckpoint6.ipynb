{
 "cells": [
  {
   "cell_type": "code",
   "execution_count": null,
   "id": "506efc82",
   "metadata": {},
   "outputs": [],
   "source": [
    "y=int(input(\"entrez le nombre de matieres: \"))\n",
    "tableau=np.zeros((x, y))\n",
    "print(tableau)\n",
    "for j in range (0,x):\n",
    "    for i in range (0,y):\n",
    "        note1=int(input(\"Entrez les note l'éléve 1 une à une: \"))\n",
    "        tableau[j,i]=note1\n",
    "    print(tableau)\n",
    "total=tableau.sum(axis=0)\n",
    "for i in range (0,y):\n",
    "    print(\"Le totale des notes  de l'éléve \",i+1,\" est de \",(total[i]))\n",
    "\n",
    "    if ((total[i]/(y*100))*1000) >=90 :\n",
    "        print(f\", et vous avez un A+\")\n",
    "    elif ((total[0]/(y*100))*1000) >=80 :\n",
    "        print(f\", et vous avez un A\")\n",
    "    elif ((total[0]/(y*100))*1000) >=70 :\n",
    "        print(f\", et vous avez un B+\")\n",
    "    elif ((total[0]/(y*100))*1000) >=60 :\n",
    "        print(f\", et  vous avez un B\")\n",
    "    elif ((total[0]/(y*100))*1000) >=50 :\n",
    "        print(f\", et vous avez un C\")\n",
    "    else :\n",
    "        print(f\", et  vous avez un F\")"
   ]
  }
 ],
 "metadata": {
  "kernelspec": {
   "display_name": "Python 3 (ipykernel)",
   "language": "python",
   "name": "python3"
  },
  "language_info": {
   "codemirror_mode": {
    "name": "ipython",
    "version": 3
   },
   "file_extension": ".py",
   "mimetype": "text/x-python",
   "name": "python",
   "nbconvert_exporter": "python",
   "pygments_lexer": "ipython3",
   "version": "3.11.4"
  }
 },
 "nbformat": 4,
 "nbformat_minor": 5
}
