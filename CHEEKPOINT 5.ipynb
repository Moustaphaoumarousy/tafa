{
 "cells": [
  {
   "cell_type": "code",
   "execution_count": 8,
   "id": "b7bbed06",
   "metadata": {},
   "outputs": [
    {
     "name": "stdout",
     "output_type": "stream",
     "text": [
      "x=1, y=1, z=1\n"
     ]
    }
   ],
   "source": [
    "# EXO1\n",
    "class point3D:\n",
    "    def __init__ (self, x, y, z):\n",
    "        self.x = x\n",
    "        self.y = y\n",
    "        self.z = z\n",
    "    \n",
    "my_point= point3D (1, 1, 1)\n",
    "print(f\"x={my_point.x}, y={my_point.y}, z={my_point.z}\")"
   ]
  },
  {
   "cell_type": "code",
   "execution_count": 19,
   "id": "40415b24",
   "metadata": {},
   "outputs": [
    {
     "name": "stdout",
     "output_type": "stream",
     "text": [
      "le perimetre du rectangle est de 14 métre carré\n",
      "la surface du rectangle est de  12 métre carré\n"
     ]
    }
   ],
   "source": [
    "# EXO2\n",
    "class Rectangle:\n",
    "    \n",
    "    def __init__ (self, longueur, largeur):\n",
    "        self.longueur=longueur\n",
    "        self.largeur=largeur\n",
    "        \n",
    "    def aire (self):\n",
    "        print(\"la surface du rectangle est de \", self.longueur*self.largeur,)\n",
    "        \n",
    "    def perimetre (self):\n",
    "        print(f\"le perimetre du rectangle est de {(self.longueur+self.largeur)*2}\")\n",
    "    \n",
    "my_rectangle = Rectangle(3, 4)\n",
    "my_rectangle.perimetre()\n",
    "my_rectangle.aire()"
   ]
  },
  {
   "cell_type": "code",
   "execution_count": null,
   "id": "e12539d7",
   "metadata": {},
   "outputs": [],
   "source": [
    "# EXO3\n",
    "class circle:\n",
    "    def __init__ (selt, o, r):\n",
    "        self.o=o\n",
    "        self.r=r\n",
    "        \n",
    "    def aire (self):\n",
    "        print(f\"la surfce du triangle est de {(self.r**2)*3,1415}\")\n",
    "        \n",
    "    def perimetre (self):\n",
    "        print(f\"le perimetre du cercler{self.r*2*3.1415}\")\n",
    "        \n",
    "    \n",
    "        "
   ]
  },
  {
   "cell_type": "code",
   "execution_count": null,
   "id": "bdb3e98c",
   "metadata": {},
   "outputs": [],
   "source": []
  },
  {
   "cell_type": "code",
   "execution_count": 25,
   "id": "1e76c900",
   "metadata": {},
   "outputs": [
    {
     "name": "stdout",
     "output_type": "stream",
     "text": [
      "Entrer 1 pour un depôt d'argent ou 2 pour retrait d'argent: 1\n",
      "Entrer le montant de la depôt, en chiffre: 21341\n",
      "le montant de la balance est de25482\n"
     ]
    }
   ],
   "source": [
    "# EXO4\n",
    "class Bank:\n",
    "    def __init__ (self, balance):\n",
    "        self.balance= balance\n",
    "        \n",
    "    def depot (self,montant):\n",
    "        self.motant=montant\n",
    "        if montant> 0:\n",
    "            depôt=print(f\"le montant de la balance est de {self.balance+montant}\")\n",
    "            return depôt\n",
    "        else:\n",
    "            return \"le montant du depôt doit être superieur à 0. \"\n",
    "        \n",
    "    def retrait (self, montant):\n",
    "        self.montant\n",
    "        if montant> 0:\n",
    "            if self.balance<montant:\n",
    "                print(\"le retrait n'est pas possible\")\n",
    "            else:\n",
    "                retrai=print(f\"le montant de la balance est de {self.balance-montant}\")\n",
    "                return retrai\n",
    "        else:\n",
    "            return \"le montant du depôt doit être superieur à 0. \"\n",
    "\n",
    "demande=int(input(\"Entrer 1 pour un depôt d'argent ou 2 pour retrait d'argent: \"))\n",
    "\n",
    "\n",
    "transaction= Bank(somme)\n",
    "if demande==1:\n",
    "    somme_deposée= int(input(\"Entrer le montant de la depôt, en chiffre: \"))\n",
    "    transaction.depot (somme_deposée)\n",
    "elif demande==2:\n",
    "    somme_retirée= int(input(\"Entrer le montant à retirer en, chiffre: \"))\n",
    "    transaction.retrait(somme_retirée)\n",
    "else:\n",
    "    pass"
   ]
  }
 ],
 "metadata": {
  "kernelspec": {
   "display_name": "Python 3 (ipykernel)",
   "language": "python",
   "name": "python3"
  },
  "language_info": {
   "codemirror_mode": {
    "name": "ipython",
    "version": 3
   },
   "file_extension": ".py",
   "mimetype": "text/x-python",
   "name": "python",
   "nbconvert_exporter": "python",
   "pygments_lexer": "ipython3",
   "version": "3.11.4"
  }
 },
 "nbformat": 4,
 "nbformat_minor": 5
}
