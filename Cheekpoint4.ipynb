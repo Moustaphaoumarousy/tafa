{
 "cells": [
  {
   "cell_type": "code",
   "execution_count": 10,
   "id": "f7983681",
   "metadata": {},
   "outputs": [
    {
     "name": "stdout",
     "output_type": "stream",
     "text": [
      "entrez la premiere valeur: 34\n",
      "entrez la deuxieme valeur: 0\n",
      "choisissez l'operateur à entrer parmit les suivants (+,-,*,/) : EJ\n",
      "choisissez l'operateur à entrer parmit les suivants (+,-,*,/) : /\n"
     ]
    },
    {
     "data": {
      "text/plain": [
       "'impossible'"
      ]
     },
     "execution_count": 10,
     "metadata": {},
     "output_type": "execute_result"
    }
   ],
   "source": [
    "num1,num2=float(input(\"entrez la premiere valeur: \")),float(input(\"entrez la deuxieme valeur: \"))\n",
    "operateur=input(\"choisissez l'operateur à entrer parmit les suivants (+,-,*,/) : \")\n",
    "while operateur!= \"+\" and operateur!= \"-\" and operateur!= \"*\" and operateur!= \"/\":\n",
    "    operateur=input(\"choisissez l'operateur à entrer parmit les suivants (+,-,*,/) : \")\n",
    "def calculatrice(num1,num2): \n",
    "    if operateur=='+':\n",
    "        resultat= num1+num2\n",
    "    elif operateur== '-':\n",
    "        resultat= num1-num2\n",
    "    elif operateur== '*':\n",
    "        resultat= num1*num2\n",
    "    elif operateur== '/':\n",
    "        if num2!=0:\n",
    "            resultat= num1/num2\n",
    "            round(resultat)\n",
    "        else:\n",
    "            resultat= 'impossible de divier par 0'\n",
    "    else:\n",
    "        resultat=\" Operateur invalide\"\n",
    "        \n",
    "    return resultat\n",
    "\n",
    "calculatrice(num1,num2)"
   ]
  },
  {
   "cell_type": "code",
   "execution_count": null,
   "id": "e31e69fa",
   "metadata": {},
   "outputs": [],
   "source": []
  }
 ],
 "metadata": {
  "kernelspec": {
   "display_name": "Python 3 (ipykernel)",
   "language": "python",
   "name": "python3"
  },
  "language_info": {
   "codemirror_mode": {
    "name": "ipython",
    "version": 3
   },
   "file_extension": ".py",
   "mimetype": "text/x-python",
   "name": "python",
   "nbconvert_exporter": "python",
   "pygments_lexer": "ipython3",
   "version": "3.11.4"
  }
 },
 "nbformat": 4,
 "nbformat_minor": 5
}
