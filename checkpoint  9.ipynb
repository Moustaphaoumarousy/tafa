{
 "cells": [
  {
   "cell_type": "code",
   "execution_count": null,
   "id": "c76e58d4",
   "metadata": {},
   "outputs": [],
   "source": [
    "\n",
    "f=open(\"fichier.txt\", \"r\", encoding='utf_8')\n",
    "texte=f.read()\n",
    "print(texte)\n"
   ]
  },
  {
   "cell_type": "code",
   "execution_count": null,
   "id": "1b2476b7",
   "metadata": {},
   "outputs": [],
   "source": [
    "n=int(input('Entrez le nombres de ligne a lire: '))\n",
    "f=open(\"fichier.txt\", \"r\", encoding='utf_8')\n",
    "texte=f.readline(n)\n",
    "print(texte)"
   ]
  },
  {
   "cell_type": "code",
   "execution_count": null,
   "id": "123ec58e",
   "metadata": {},
   "outputs": [],
   "source": [
    "n=int(input('Entrez le nombres de ligne a lire: '))\n",
    "f=open(\"fichier.txt\", \"r\", encoding='utf_8')\n",
    "while n>0:\n",
    "    texte=f.readline(len(line) - n)\n",
    "    print(texte)\n",
    "    n-=1"
   ]
  },
  {
   "cell_type": "code",
   "execution_count": null,
   "id": "f31e56f0",
   "metadata": {},
   "outputs": [],
   "source": [
    "nom_fichier = \"mon_fichier.txt\"\n",
    "with open(nom_fichier, 'r') as fichier:\n",
    "    texte = fichier.read()\n",
    "mots =texte.split()\n",
    "nombre_de_mots = len(mots)\n",
    "print(f\"Le fichier {nom_fichier} contient {nombre_de_mots} mots.\")"
   ]
  }
 ],
 "metadata": {
  "kernelspec": {
   "display_name": "Python 3 (ipykernel)",
   "language": "python",
   "name": "python3"
  },
  "language_info": {
   "codemirror_mode": {
    "name": "ipython",
    "version": 3
   },
   "file_extension": ".py",
   "mimetype": "text/x-python",
   "name": "python",
   "nbconvert_exporter": "python",
   "pygments_lexer": "ipython3",
   "version": "3.11.4"
  }
 },
 "nbformat": 4,
 "nbformat_minor": 5
}
