{
 "cells": [
  {
   "cell_type": "code",
   "execution_count": 12,
   "id": "d4869d19",
   "metadata": {},
   "outputs": [
    {
     "name": "stdout",
     "output_type": "stream",
     "text": [
      "False\n",
      "True\n"
     ]
    }
   ],
   "source": [
    "def recherche_binaire(tableau, element):\n",
    "    debut=0\n",
    "    fin=len(tableau)-1\n",
    "   \n",
    "    while debut<=fin:\n",
    "        milieu=(debut+fin)//2\n",
    "        \n",
    "        if tableau[milieu]==element:\n",
    "            return True\n",
    "        elif tableau[milieu]<element:\n",
    "            debut=milieu+1\n",
    "        else:\n",
    "            fin=milieu-1\n",
    "    return False\n",
    "        \n",
    "        \n",
    "        \n",
    "print(recherche_binaire([1,2,3,5,8], 6))\n",
    "print(recherche_binaire([1,2,3,5,8], 5))"
   ]
  },
  {
   "cell_type": "code",
   "execution_count": 8,
   "id": "4baeef7c",
   "metadata": {},
   "outputs": [
    {
     "name": "stdout",
     "output_type": "stream",
     "text": [
      "81\n"
     ]
    }
   ],
   "source": [
    "def puissance(a, b):\n",
    "    resultat=a**b\n",
    "    return resultat\n",
    "print(puissance(3,4))"
   ]
  },
  {
   "cell_type": "code",
   "execution_count": 12,
   "id": "77bf6f12",
   "metadata": {},
   "outputs": [
    {
     "name": "stdout",
     "output_type": "stream",
     "text": [
      "[13, 22, 29, 37, 46, 49, 52, 56, 71]\n"
     ]
    }
   ],
   "source": [
    "def tri_bulle(tableau ):\n",
    "    n=len(tableau)\n",
    "    for i in range (n):\n",
    "        for j in range (0,n-i-1):\n",
    "            if tableau[j] > tableau[j+1]:\n",
    "                tableau[j],tableau[j+1]=tableau[j+1],tableau[j]\n",
    "\n",
    "donne= [29,13,22,37,52,49,46,71,56]\n",
    "tri_bulle(donne)\n",
    "print(donne)"
   ]
  },
  {
   "cell_type": "code",
   "execution_count": 11,
   "id": "c935fb86",
   "metadata": {},
   "outputs": [
    {
     "name": "stdout",
     "output_type": "stream",
     "text": [
      "[13, 29, 22, 37, 46, 56, 71, 49, 52]\n"
     ]
    }
   ],
   "source": [
    "def tri_fusion(tableau):\n",
    "    if len(tableau)<=1:\n",
    "        return tableau\n",
    "    \n",
    "    milieu=len(tableau)//2\n",
    "    gauche=tableau[:milieu]\n",
    "    droite=tableau[milieu:]\n",
    "    \n",
    "    gauche=tri_fusion(gauche)\n",
    "    droite=tri_fusion(droite)\n",
    "    \n",
    "    return fusionner(gauche, droite)\n",
    "\n",
    "def fusionner(gauche, droite):\n",
    "    resultat=[]\n",
    "    i=j=0\n",
    "    \n",
    "    while i < len(gauche) and j < len(droite):\n",
    "        if gauche[i] < droite[i]:\n",
    "            resultat.append(gauche[i])\n",
    "            i+=1\n",
    "        else:\n",
    "            resultat.append(droite[j])\n",
    "            j+=1\n",
    "            \n",
    "    resultat.extend(gauche[i:])\n",
    "    resultat.extend(droite[j:])\n",
    "    return resultat\n",
    "    \n",
    "donnees = [29, 13, 22, 37, 52, 49, 46, 71, 56]\n",
    "resultat = tri_fusion(donnees)\n",
    "print(resultat)"
   ]
  },
  {
   "cell_type": "code",
   "execution_count": 7,
   "id": "5d567f7c",
   "metadata": {},
   "outputs": [
    {
     "name": "stdout",
     "output_type": "stream",
     "text": [
      "[13, 22, 29, 37, 46, 49, 52, 56, 71]\n"
     ]
    }
   ],
   "source": [
    "def tri_rapide(tableau):\n",
    "    if len(tableau)<=1:\n",
    "        return tableau\n",
    "    \n",
    "    pivot=tableau[len(tableau)//2]\n",
    "    gauche=[a for a in tableau if a<pivot]\n",
    "    milieu=[a for a in tableau if a==pivot]\n",
    "    droite=[a for a in tableau if a>pivot]\n",
    "    \n",
    "    return tri_rapide(gauche)+milieu+tri_rapide(droite)\n",
    "\n",
    "donnees = [29, 13, 22, 37, 52, 49, 46, 71, 56]\n",
    "resultat = tri_rapide(donnees)\n",
    "print(resultat)"
   ]
  },
  {
   "cell_type": "code",
   "execution_count": null,
   "id": "5beb0928",
   "metadata": {},
   "outputs": [],
   "source": []
  }
 ],
 "metadata": {
  "kernelspec": {
   "display_name": "Python 3 (ipykernel)",
   "language": "python",
   "name": "python3"
  },
  "language_info": {
   "codemirror_mode": {
    "name": "ipython",
    "version": 3
   },
   "file_extension": ".py",
   "mimetype": "text/x-python",
   "name": "python",
   "nbconvert_exporter": "python",
   "pygments_lexer": "ipython3",
   "version": "3.11.4"
  }
 },
 "nbformat": 4,
 "nbformat_minor": 5
}
