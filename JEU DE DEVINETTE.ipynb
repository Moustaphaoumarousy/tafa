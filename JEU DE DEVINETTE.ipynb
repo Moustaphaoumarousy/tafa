{
 "cells": [
  {
   "cell_type": "code",
   "execution_count": 7,
   "id": "79588fe5",
   "metadata": {},
   "outputs": [],
   "source": [
    "# JEU DE DEVINETTE\n",
    "\n",
    "# La plupart des geeks issus du milieu CS ( informatique ) pensent à leur tout premier projet après avoir\n",
    "#étudié un langage de programmation. Ici, vous obtiendrez votre tout premier projet et celui de base, dans cet article.\n",
    "\n",
    "# Tâche : Voici les étapes :\n",
    "\n",
    "# Créez un jeu de devinettes dans lequel l' utilisateur sélectionne une plage.\n",
    "# Disons que l'utilisateur a sélectionné une plage, c'est-à-dire de A à B , où A et B appartiennent à Integer.\n",
    "# Un nombre entier aléatoire sera sélectionné par le système et l'utilisateur devra deviner cet entier avec \n",
    "#le nombre minimum de suppositions."
   ]
  },
  {
   "cell_type": "code",
   "execution_count": 6,
   "id": "6d7206f4",
   "metadata": {},
   "outputs": [
    {
     "name": "stdout",
     "output_type": "stream",
     "text": [
      " Bienvenue! nous jouons ici au devinet de nombre installés vous bien.\n",
      "Je vous pris d'entre votre plage, d'abord la borne inferieur en suite la borne superieur\n",
      "\n",
      "Entrez la borne inferieur: 3\n",
      "Entrez la borne superieur: 9\n",
      "\n",
      " Vous avez 3 tentative.\n",
      "BONNE CHANCE!!!\n",
      "Entrez votre divinette: 5\n",
      "\n",
      " Bravo, trés cher joueur vous avez vue juste.\n",
      "Belle coup 🤜  \n"
     ]
    }
   ],
   "source": [
    "import random\n",
    "import math\n",
    "\n",
    "print(\" Bienvenue! nous jouons ici au devinet de nombre installés vous bien.\")\n",
    "print(\"Je vous pris d'entre votre plage, d'abord la borne inferieur en suite la borne superieur\\n\")\n",
    "b_inf=int(input(\"Entrez la borne inferieur: \"))\n",
    "b_sup=int(input(\"Entrez la borne superieur: \"))\n",
    "\n",
    "devine=random.randint(b_inf, b_sup)\n",
    "min_essaie=math.log(b_sup-b_inf+1, 2)\n",
    "print(f\"\\n Vous avez {round(min_essaie)} tentative.\\nBONNE CHANCE!!!\")\n",
    "essai=int(input(\"Entrez votre divinette: \"))\n",
    "compteur=1\n",
    "\n",
    "while compteur<min_essaie-1:\n",
    "   \n",
    "    if essai==devine :\n",
    "        print(\"\\n Bravo, trés cher joueur vous avez vue juste.\\nBelle coup 🤜  \")\n",
    "        break\n",
    "    elif essai<devine :\n",
    "        print(\"\\nShutt, Vous avez deviné trop petit. Réessayez encore\")\n",
    "    else:\n",
    "        print(\"\\nHôoo, Vous avez deviné trop grand. Réessayez encore\")\n",
    "    \n",
    "    essai=int(input(\"Entrez votre divinette: \"))\n",
    "    compteur+=1\n",
    "    \n",
    "if compteur>=min_essaie-1:\n",
    "    print(f\"\\nLa devinette est {devine} \\n Bonne chance pour la prochaine fois \\n BYE!!\")\n",
    "    "
   ]
  },
  {
   "cell_type": "code",
   "execution_count": null,
   "id": "99885e70",
   "metadata": {},
   "outputs": [],
   "source": []
  },
  {
   "cell_type": "code",
   "execution_count": null,
   "id": "d55b2052",
   "metadata": {},
   "outputs": [],
   "source": [
    "\n",
    "    "
   ]
  }
 ],
 "metadata": {
  "kernelspec": {
   "display_name": "Python 3 (ipykernel)",
   "language": "python",
   "name": "python3"
  },
  "language_info": {
   "codemirror_mode": {
    "name": "ipython",
    "version": 3
   },
   "file_extension": ".py",
   "mimetype": "text/x-python",
   "name": "python",
   "nbconvert_exporter": "python",
   "pygments_lexer": "ipython3",
   "version": "3.11.4"
  }
 },
 "nbformat": 4,
 "nbformat_minor": 5
}
