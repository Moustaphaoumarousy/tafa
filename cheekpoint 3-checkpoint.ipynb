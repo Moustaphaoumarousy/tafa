{
 "cells": [
  {
   "cell_type": "code",
   "execution_count": 7,
   "id": "365f0a87",
   "metadata": {},
   "outputs": [
    {
     "name": "stdout",
     "output_type": "stream",
     "text": [
      "entrez le nombre d'element votre liste2\n",
      "entrez les valeurs de la liste l'une apres l'autre3\n",
      "entrez les valeurs de la liste l'une apres l'autre9\n",
      "12\n"
     ]
    }
   ],
   "source": [
    "# EXERCICE 1\n",
    "\n",
    "n=int(input(\"entrez le nombre d'element votre liste: \"))\n",
    "liste=[]\n",
    "for i in range (0,n):\n",
    "    x=int(input(\"entrez les valeurs de la liste l'une apres l'autre: \"))\n",
    "    liste.append(x)\n",
    "print(sum(liste))\n",
    "    "
   ]
  },
  {
   "cell_type": "code",
   "execution_count": 23,
   "id": "fe89cc5e",
   "metadata": {},
   "outputs": [
    {
     "name": "stdout",
     "output_type": "stream",
     "text": [
      "entrez le nombre de tuple dans votre liste: 3\n",
      "entez la premiere valeur du premiere: 9\n",
      "entrez la deuxieme valeur du premiere: 67\n",
      "<class 'tuple'>\n",
      "entez la premiere valeur de l'autre: 12\n",
      "entrez la deuxieme valeur de l'autre: 3\n",
      "entez la premiere valeur de l'autre: 1\n",
      "entrez la deuxieme valeur de l'autre: 56\n",
      "[(1, 56), (9, 67), (12, 3)]\n"
     ]
    }
   ],
   "source": [
    "#  EXERCICE 2\n",
    "\n",
    "n=int(input(\"entrez le nombre de tuple dans votre liste: \"))\n",
    "a=int(input(\"entez la premiere valeur du premiere: \"))\n",
    "b=int(input(\"entrez la deuxieme valeur du premiere: \"))\n",
    "liste=[]\n",
    "liste.append((a,b))\n",
    "for i in range (1,n):\n",
    "    z=int(input(\"entez la premiere valeur de l'autre: \"))\n",
    "    v=int(input(\"entrez la deuxieme valeur de l'autre: \"))\n",
    "    s=(z,v)\n",
    "    liste.append(s)\n",
    "liste.sort()\n",
    "print(liste)\n",
    "    \n",
    "    "
   ]
  },
  {
   "cell_type": "markdown",
   "id": "e0862805",
   "metadata": {},
   "source": []
  },
  {
   "cell_type": "markdown",
   "id": "67e4f27b",
   "metadata": {},
   "source": []
  },
  {
   "cell_type": "code",
   "execution_count": 52,
   "id": "142d15d3",
   "metadata": {},
   "outputs": [
    {
     "name": "stdout",
     "output_type": "stream",
     "text": [
      "entrez le nombre de keys de votre dictionnaire: 3\n",
      "enrez une keys en chaine de caractere: TA\n",
      "enrez une keys en chaine de caractere: FA\n",
      "enrez une keys en chaine de caractere: TF\n",
      "['TA', 'FA', 'TF']\n",
      "entrez une valeur du premier dictonnaire: 1\n",
      "entrez une valeur du premier dictonnaire: 2\n",
      "entrez une valeur du premier dictonnaire: 3\n",
      "[1, 2, 3]\n",
      "entrez une valeur du deuxieme dictonnaire: 4\n",
      "entrez une valeur du deuxieme dictonnaire: 5\n",
      "entrez une valeur du deuxieme dictonnaire: 6\n",
      "[4, 5, 6]\n",
      "{'TA': 1, 'FA': 2, 'TF': 3}\n",
      "{'TA': 4, 'FA': 5, 'TF': 6}\n",
      "{'TA': 5, 'FA': 7, 'TF': 9}\n"
     ]
    }
   ],
   "source": [
    "#EXERCICE 3\n",
    "list1=[]\n",
    "list2=[]\n",
    "list3=[]\n",
    "n=int(input(\"entrez le nombre de keys de votre dictionnaire: \"))\n",
    "a,b,c=1,1,1\n",
    "\n",
    "while a<=n:\n",
    "    x=input(\"enrez une keys en chaine de caractere: \")\n",
    "    list1.append(x)\n",
    "    a+=1\n",
    "print(list1)\n",
    "while b<=n:\n",
    "    y=int(input(\"entrez une valeur du premier dictonnaire: \"))\n",
    "    list2.append(y)\n",
    "    b+=1\n",
    "print(list2)\n",
    "while c<=n:\n",
    "    z=int(input(\"entrez une valeur du deuxieme dictonnaire: \"))\n",
    "    list3.append(z)\n",
    "    c+=1\n",
    "print(list3)\n",
    "dico1={}\n",
    "dico2={}\n",
    "dico={}\n",
    "dico1=dict(zip(list1,list2))\n",
    "dico2=dict(zip(list1,list3))\n",
    "print(dico1)\n",
    "print(dico2)\n",
    "liste=[]\n",
    "for i in range (0,n):\n",
    "    t=(list2[i]+list3[i])\n",
    "    liste.append(t)\n",
    "dico=dict((zip(list1,liste)))\n",
    "print(dico)\n",
    "\n"
   ]
  },
  {
   "cell_type": "code",
   "execution_count": null,
   "id": "664f431f",
   "metadata": {},
   "outputs": [],
   "source": []
  },
  {
   "cell_type": "code",
   "execution_count": 69,
   "id": "ae4a570a",
   "metadata": {},
   "outputs": [
    {
     "name": "stdout",
     "output_type": "stream",
     "text": [
      "entrez le nombre de keys de votre dictionnaire: 5\n",
      "{1: 1, 2: 4, 3: 9, 4: 16, 5: 25}\n"
     ]
    }
   ],
   "source": [
    "# EXERCICE 4\n",
    "x=int(input(\"entrez le nombre de keys de votre dictionnaire: \"))\n",
    "diko={i:  i*i for i in range (1,x+1)}\n",
    "print(diko)"
   ]
  },
  {
   "cell_type": "markdown",
   "id": "469b723e",
   "metadata": {},
   "source": []
  },
  {
   "cell_type": "code",
   "execution_count": 72,
   "id": "106ca373",
   "metadata": {},
   "outputs": [
    {
     "name": "stdout",
     "output_type": "stream",
     "text": [
      "entrez le nombre le nbre de tuple de votre liste: 3\n",
      "entrez la premiere valeur du tuple: TA\n",
      "entrez l'autre valeur: 2\n",
      "entrez la premiere valeur du tuple: GE\n",
      "entrez l'autre valeur: 9\n",
      "entrez la premiere valeur du tuple: GF\n",
      "entrez l'autre valeur: 4\n",
      "[('GE', '9'), ('GF', '4'), ('TA', '2')]\n"
     ]
    }
   ],
   "source": [
    "#  EXERCICE 5\n",
    "\n",
    "liste=[]\n",
    "n=int(input(\"entrez le nombre le nbre de tuple de votre liste: \"))\n",
    "for i in range (0,n):\n",
    "    x=input('entrez la premiere valeur du tuple: ')\n",
    "    y=input('entrez l\\'autre valeur: ')\n",
    "    a=(x,y)\n",
    "    liste.append(a)\n",
    "liste.sort()\n",
    "print(liste)\n",
    "    "
   ]
  },
  {
   "cell_type": "code",
   "execution_count": 84,
   "id": "d280e45b",
   "metadata": {},
   "outputs": [
    {
     "name": "stdout",
     "output_type": "stream",
     "text": [
      "entrez le nbre d'element de votre ensemble: 5\n",
      "entrez une valeur: 1\n",
      "entrez une valeur: 2\n",
      "entrez une valeur: 3\n",
      "entrez une valeur: 4\n",
      "entrez une valeur: 5\n",
      "{1, 2, 3, 4, 5}\n",
      "entrez le nbre d'element de votre ensemble: 4\n",
      "entrez une valeur: 2\n",
      "entrez une valeur: 3\n",
      "entrez une valeur: 5\n",
      "entrez une valeur: 7\n",
      "itérer\n",
      "itérer\n",
      "itérer\n",
      "itérer\n",
      "set()\n"
     ]
    }
   ],
   "source": [
    "### EXERCICE 6\n",
    "\n",
    "n=int(input(\"entrez le nbre d'element de votre ensemble: \"))\n",
    "moi=set()\n",
    "for i in range (0,n):\n",
    "    x=int(input(\"entrez une valeur: \"))\n",
    "    moi.add(x)\n",
    "print(moi)\n",
    "\n",
    "\n",
    "\n",
    "m=int(input(\"entrez le nbre d'element de votre ensemble: \"))\n",
    "nous=set()\n",
    "for i in range (0,m):\n",
    "    y=int(input(\"entrez une valeur: \"))\n",
    "    nous.add(y)\n",
    "for i in nous:\n",
    "    print(\"itérer\")\n",
    "    \n",
    "    \n",
    "    \n",
    "moi.clear()\n",
    "print(moi)\n"
   ]
  },
  {
   "cell_type": "markdown",
   "id": "c4d14478",
   "metadata": {},
   "source": []
  },
  {
   "cell_type": "markdown",
   "id": "ff1ed900",
   "metadata": {},
   "source": []
  }
 ],
 "metadata": {
  "kernelspec": {
   "display_name": "Python 3 (ipykernel)",
   "language": "python",
   "name": "python3"
  },
  "language_info": {
   "codemirror_mode": {
    "name": "ipython",
    "version": 3
   },
   "file_extension": ".py",
   "mimetype": "text/x-python",
   "name": "python",
   "nbconvert_exporter": "python",
   "pygments_lexer": "ipython3",
   "version": "3.11.4"
  }
 },
 "nbformat": 4,
 "nbformat_minor": 5
}
