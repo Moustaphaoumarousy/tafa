{
 "cells": [
  {
   "cell_type": "code",
   "execution_count": 1,
   "id": "0c71f6ef",
   "metadata": {},
   "outputs": [
    {
     "name": "stdout",
     "output_type": "stream",
     "text": [
      "Bienvenue dans le jeu Guess the number!\n",
      " Je pense a un nombre entre 1 et 100. \n",
      " Pouvez-vous deviner ce que c'est\n",
      "Entrez votre supposition: 76\n",
      "Votre estimation est trop élevée.\n",
      "Entrez votre supposition: 44\n",
      "Votre estimation est trop élevée.\n",
      "Entrez votre supposition: 10\n",
      "Votre estimation est trop base.\n",
      "Entrez votre supposition: 20\n",
      "Votre estimation est trop base.\n",
      "Entrez votre supposition: 30\n",
      "Votre estimation est trop élevée.\n",
      "Entrez votre supposition: 25\n",
      "Votre estimation est trop élevée.\n",
      "Entrez votre supposition: 23\n",
      "Votre estimation est trop élevée.\n",
      "Entrez votre supposition: 21\n",
      "Votre estimation est trop base.\n",
      "Entrez votre supposition: 22\n",
      "felicitation! Vous avez deviné le nombre correcteement\n"
     ]
    }
   ],
   "source": [
    "print(\"Bienvenue dans le jeu Guess the number!\\n Je pense a un nombre entre 1 et 100. \\n Pouvez-vous deviner ce que c'est\")\n",
    "x=(input(\"Entrez votre supposition: \"))\n",
    "x= int(x)\n",
    "import random\n",
    "\n",
    "d= random.randint(1,100)\n",
    "if x>d:\n",
    "    print(\"Votre estimation est trop élevée.\")\n",
    "elif x<d:\n",
    "    print(\"Votre estimation est trop base.\")\n",
    "else:\n",
    "    print(\"felicitation! Vous avez deviné le nombre correcteement\")\n",
    "\n",
    "while x!=d:\n",
    "    x=int(input(\"Entrez votre supposition: \"))\n",
    "    \n",
    "    if x>d:\n",
    "        print(\"Votre estimation est trop élevée.\")\n",
    "    elif x<d:\n",
    "        print(\"Votre estimation est trop base.\")\n",
    "    else:\n",
    "        print(\"felicitation! Vous avez deviné le nombre correcteement\")"
   ]
  }
 ],
 "metadata": {
  "kernelspec": {
   "display_name": "Python 3 (ipykernel)",
   "language": "python",
   "name": "python3"
  },
  "language_info": {
   "codemirror_mode": {
    "name": "ipython",
    "version": 3
   },
   "file_extension": ".py",
   "mimetype": "text/x-python",
   "name": "python",
   "nbconvert_exporter": "python",
   "pygments_lexer": "ipython3",
   "version": "3.11.4"
  }
 },
 "nbformat": 4,
 "nbformat_minor": 5
}
